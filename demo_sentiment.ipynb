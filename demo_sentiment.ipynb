{
 "cells": [
  {
   "cell_type": "code",
   "execution_count": 13,
   "id": "04a1bf61",
   "metadata": {},
   "outputs": [
    {
     "name": "stderr",
     "output_type": "stream",
     "text": [
      "[nltk_data] Downloading package vader_lexicon to C:\\Users\\Divyanshi\n",
      "[nltk_data]     Sahu\\AppData\\Roaming\\nltk_data...\n"
     ]
    },
    {
     "data": {
      "text/plain": [
       "True"
      ]
     },
     "execution_count": 13,
     "metadata": {},
     "output_type": "execute_result"
    }
   ],
   "source": [
    "import nltk\n",
    "nltk.download('vader_lexicon')"
   ]
  },
  {
   "cell_type": "code",
   "execution_count": 14,
   "id": "8593d39d",
   "metadata": {},
   "outputs": [
    {
     "name": "stdout",
     "output_type": "stream",
     "text": [
      "Tweet: Mast movie hai!\n",
      "Sentiment: Neutral | Scores: {'neg': 0.0, 'neu': 1.0, 'pos': 0.0, 'compound': 0.0}\n",
      "\n",
      "Tweet: This product is terrible. Waste of money.\n",
      "Sentiment: Negative | Scores: {'neg': 0.541, 'neu': 0.459, 'pos': 0.0, 'compound': -0.7096}\n",
      "\n",
      "Tweet: Feeling okay today, nothing special.\n",
      "Sentiment: Neutral | Scores: {'neg': 0.295, 'neu': 0.261, 'pos': 0.444, 'compound': 0.0366}\n",
      "\n",
      "Tweet: What an amazing game! Congrats to the team!\n",
      "Sentiment: Positive | Scores: {'neg': 0.0, 'neu': 0.435, 'pos': 0.565, 'compound': 0.8309}\n",
      "\n",
      "Tweet: I’m so tired of all this nonsense...\n",
      "Sentiment: Negative | Scores: {'neg': 0.347, 'neu': 0.653, 'pos': 0.0, 'compound': -0.4927}\n",
      "\n"
     ]
    }
   ],
   "source": [
    "\n",
    "from nltk.sentiment import SentimentIntensityAnalyzer\n",
    "\n",
    "# Sample tweet data (you can replace this with your own tweets or load from a file)\n",
    "tweets = [\n",
    "    \"Mast movie hai!\",\n",
    "    \"This product is terrible. Waste of money.\",\n",
    "    \"Feeling okay today, nothing special.\",\n",
    "    \"What an amazing game! Congrats to the team!\",\n",
    "    \"I’m so tired of all this nonsense...\",\n",
    "]\n",
    "\n",
    "# Initialize the Sentiment Analyzer\n",
    "sia = SentimentIntensityAnalyzer()\n",
    "\n",
    "# Analyze each tweet\n",
    "for tweet in tweets:\n",
    "    score = sia.polarity_scores(tweet)\n",
    "    sentiment = 'Positive' if score['compound'] > 0.05 else 'Negative' if score['compound'] < -0.05 else 'Neutral'\n",
    "    print(f\"Tweet: {tweet}\")\n",
    "    print(f\"Sentiment: {sentiment} | Scores: {score}\\n\")"
   ]
  },
  {
   "cell_type": "code",
   "execution_count": 20,
   "id": "5fb52cc0",
   "metadata": {},
   "outputs": [
    {
     "name": "stdout",
     "output_type": "stream",
     "text": [
      "Tweet: Mast movie hai!\n",
      "Sentiment: Neutral | Scores: {'neg': 0.0, 'neu': 1.0, 'pos': 0.0, 'compound': 0.0}\n",
      "\n",
      "Tweet: This product is terrible. Not a Waste of money.\n",
      "Sentiment: Negative | Scores: {'neg': 0.271, 'neu': 0.525, 'pos': 0.204, 'compound': -0.1945}\n",
      "\n",
      "Tweet: Feeling okay today, nothing special.\n",
      "Sentiment: Neutral | Scores: {'neg': 0.295, 'neu': 0.261, 'pos': 0.444, 'compound': 0.0366}\n",
      "\n",
      "Tweet: What an boring game! !\n",
      "Sentiment: Negative | Scores: {'neg': 0.49, 'neu': 0.51, 'pos': 0.0, 'compound': -0.4374}\n",
      "\n",
      "Tweet: I’m so tired of all this nonsense...\n",
      "Sentiment: Negative | Scores: {'neg': 0.347, 'neu': 0.653, 'pos': 0.0, 'compound': -0.4927}\n",
      "\n"
     ]
    }
   ],
   "source": [
    "\n",
    "# Sample tweet data (you can replace this with your own tweets or load from a file)\n",
    "tweets = [\n",
    "    \"Mast movie hai!\",\n",
    "    \"This product is terrible. Not a Waste of money.\",\n",
    "    \"Feeling okay today, nothing special.\",\n",
    "    \"What an boring game! !\",\n",
    "    \"I’m so tired of all this nonsense...\",\n",
    "]\n",
    "\n",
    "# Initialize the Sentiment Analyzer\n",
    "sia = SentimentIntensityAnalyzer()\n",
    "\n",
    "# Analyze each tweet\n",
    "for tweet in tweets:\n",
    "    score = sia.polarity_scores(tweet)\n",
    "    sentiment = 'Positive' if score['compound'] > 0.05 else 'Negative' if score['compound'] < -0.05 else 'Neutral'\n",
    "    print(f\"Tweet: {tweet}\")\n",
    "    print(f\"Sentiment: {sentiment} | Scores: {score}\\n\")"
   ]
  },
  {
   "cell_type": "code",
   "execution_count": 22,
   "id": "7541610d",
   "metadata": {},
   "outputs": [],
   "source": [
    "from googletrans import Translator\n",
    "translator = Translator()\n",
    "hindi_text = \"मैं तुमसे प्यार करता हूँ\"\n",
    "english_translation = translator.translate(hindi_text, src='hi', dest='en').text\n",
    "# Now use English NLP on translated text"
   ]
  }
 ],
 "metadata": {
  "kernelspec": {
   "display_name": "dhp",
   "language": "python",
   "name": "python3"
  },
  "language_info": {
   "codemirror_mode": {
    "name": "ipython",
    "version": 3
   },
   "file_extension": ".py",
   "mimetype": "text/x-python",
   "name": "python",
   "nbconvert_exporter": "python",
   "pygments_lexer": "ipython3",
   "version": "3.12.5"
  }
 },
 "nbformat": 4,
 "nbformat_minor": 5
}
